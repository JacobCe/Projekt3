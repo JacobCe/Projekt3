{
 "cells": [
  {
   "cell_type": "markdown",
   "id": "8e5c3751-0655-43a9-9e35-39125de22310",
   "metadata": {},
   "source": [
    "#!/usr/bin/env python\n",
    "coding: utf-8\n",
    "# # Techniki programowania - projekt 3\n",
    "# ### Jakub Ceberek s191688\n",
    "# ### Szymon Grzegorzewski s198137\n",
    "Wykorzystane biblioteki:\n",
    "    -pybind11\n",
    "    -matplotplusplus (c++)"
   ]
  },
  {
   "cell_type": "markdown",
   "id": "18cbfa89-c01a-4600-a28a-1c09c317632f",
   "metadata": {},
   "source": [
    "# Generowanie sygnału sinusoidalnego o zadanej częstotliwości 5Hz i liczbie punktów 100"
   ]
  },
  {
   "cell_type": "code",
   "execution_count": null,
   "id": "7ee3018c-4bdb-4ce3-b8e6-97d64ad5be5e",
   "metadata": {},
   "outputs": [],
   "source": [
    "import scikit_build_example as bse\n",
    "bse.main_menu();\n",
    "1;\n",
    "5;\n",
    "100;\n",
    "\n"
   ]
  },
  {
   "cell_type": "markdown",
   "id": "95650c0f-fa5d-4ea1-9d36-94139ab882b0",
   "metadata": {},
   "source": [
    "<img src=\"sinus.png\"/>"
   ]
  },
  {
   "cell_type": "markdown",
   "id": "ef2cf0e1-2bdb-46b8-a2a0-e997f6761a71",
   "metadata": {},
   "source": [
    "# Generowanie sygnału cosinusoidalnego o zadanej częstotliwości 10Hz i liczbie punktów 200¶\n",
    "\n",
    "\n",
    "\n",
    "\n",
    "\n",
    "\n",
    "\n",
    "\n",
    "\n"
   ]
  },
  {
   "cell_type": "code",
   "execution_count": null,
   "id": "00b6abd1-f3d6-47d0-9138-52b4e2b67245",
   "metadata": {},
   "outputs": [],
   "source": [
    "import scikit_build_example as bse\n",
    "bse.main_menu();\n",
    "2;\n",
    "10;\n",
    "200;\n"
   ]
  },
  {
   "cell_type": "markdown",
   "id": "ad67645d-ce99-49ae-a89c-fb601ac6191b",
   "metadata": {},
   "source": [
    "<img src=\"cosinus.png\"/>"
   ]
  },
  {
   "cell_type": "markdown",
   "id": "2041bdb8-0ac7-4913-bd1a-e1d4f62ebe6b",
   "metadata": {},
   "source": [
    "# Generowanie sygnału prostokątnego o zadanej:częstotliwości-10Hz i liczbie punktów-300"
   ]
  },
  {
   "cell_type": "code",
   "execution_count": null,
   "id": "47eacbfe-ad75-4d42-914c-fcf6d2288ed2",
   "metadata": {},
   "outputs": [],
   "source": [
    "import scikit_build_example as bse\n",
    "bse.main_menu();\n",
    "3;\n",
    "10;\n",
    "300;\n"
   ]
  },
  {
   "cell_type": "markdown",
   "id": "0215f1e7-f227-419d-9294-2974631aa3dd",
   "metadata": {},
   "source": [
    "<img src=\"prostokatny.png\"/>"
   ]
  },
  {
   "cell_type": "markdown",
   "id": "33a15c29-0a95-41c5-bf81-26ea7cc1d544",
   "metadata": {},
   "source": [
    "# Generowanie sygnału piłokształtnego o zadanej:częstotliwości-10Hz i liczbie punktów-200¶"
   ]
  },
  {
   "cell_type": "code",
   "execution_count": null,
   "id": "721422c2-fd0e-4582-b70e-2059ea3c8661",
   "metadata": {},
   "outputs": [],
   "source": [
    "import scikit_build_example as bse\n",
    "bse.main_menu();\n",
    "4;\n",
    "4;\n",
    "300;"
   ]
  },
  {
   "cell_type": "markdown",
   "id": "b4f918ce-a588-4840-a283-2a32ea043668",
   "metadata": {},
   "source": [
    "<img src=\"square.png\"/>"
   ]
  },
  {
   "cell_type": "markdown",
   "id": "a2989214-c734-4779-bbb8-feb2b8b0c90c",
   "metadata": {},
   "source": [
    "# Filtracja Gaussa 1D pliku audio.wav dla sigmy wynoszącej 2.0 "
   ]
  },
  {
   "cell_type": "code",
   "execution_count": null,
   "id": "b77ce87e-0bb2-494b-a012-6e9371524f55",
   "metadata": {},
   "outputs": [],
   "source": [
    "import scikit_build_example as bse\n",
    "bse.main_menu();\n",
    "5;\n",
    "test-audio.wav\n",
    "test-audioout.wav\n",
    "2.0\n"
   ]
  },
  {
   "cell_type": "markdown",
   "id": "4903e614-fbfb-4850-8cc1-ced50709b037",
   "metadata": {},
   "source": [
    "<img src=\"filtracja2sigma.png\"/>"
   ]
  },
  {
   "cell_type": "markdown",
   "id": "9117ab82-5f61-4d9f-8c97-b04fdd958442",
   "metadata": {},
   "source": [
    "# Filtracja Gaussa 2D pliku image1.jpg dla sigmy wynoszącej 4.0 \n"
   ]
  },
  {
   "cell_type": "code",
   "execution_count": null,
   "id": "de9482c6-9d43-40c0-a26d-06a4f2cfb44a",
   "metadata": {},
   "outputs": [],
   "source": [
    "import scikit_build_example as bse\n",
    "bse.main_menu();\n",
    "6;\n",
    "image1.jpg\n",
    "imageout1.jpg\n",
    "4.0\n"
   ]
  },
  {
   "cell_type": "markdown",
   "id": "b33aaefc-b106-430c-ae51-f9533dc5035f",
   "metadata": {},
   "source": [
    "<img src=\"filtracja2d_4sigma.png\"/>"
   ]
  },
  {
   "cell_type": "markdown",
   "id": "01fe8952-d8b9-4b82-96e0-635a9ca1fa6a",
   "metadata": {},
   "source": [
    "# Filtracja Gaussa 2D pliku image2.jpg dla sigmy wynoszącej 3.0 "
   ]
  },
  {
   "cell_type": "code",
   "execution_count": null,
   "id": "2e810d77-f143-4e98-b987-14fbc1ccc78c",
   "metadata": {},
   "outputs": [],
   "source": [
    "import scikit_build_example as bse\n",
    "bse.main_menu();\n",
    "6;\n",
    "image2.jpg\n",
    "image2out.jpg\n",
    "3.0"
   ]
  },
  {
   "cell_type": "markdown",
   "id": "ed96a101-8d2a-44d4-84ff-0b8032db369a",
   "metadata": {},
   "source": [
    "<img src=\"filtracja2d.png\"/>"
   ]
  },
  {
   "cell_type": "code",
   "execution_count": null,
   "id": "7e782f41-c2cc-4b9d-bb96-559973854b40",
   "metadata": {},
   "outputs": [],
   "source": []
  }
 ],
 "metadata": {
  "kernelspec": {
   "display_name": "Python 3 (ipykernel)",
   "language": "python",
   "name": "python3"
  },
  "language_info": {
   "codemirror_mode": {
    "name": "ipython",
    "version": 3
   },
   "file_extension": ".py",
   "mimetype": "text/x-python",
   "name": "python",
   "nbconvert_exporter": "python",
   "pygments_lexer": "ipython3",
   "version": "3.12.1"
  }
 },
 "nbformat": 4,
 "nbformat_minor": 5
}
